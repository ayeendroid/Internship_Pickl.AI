{
 "cells": [
  {
   "cell_type": "code",
   "execution_count": 11,
   "id": "31176b1f-3cd6-44a2-bebf-3ed869953ed4",
   "metadata": {
    "tags": []
   },
   "outputs": [],
   "source": [
    "import pandas as pd\n",
    "import numpy as np\n",
    "import matplotlib.pyplot as plt\n",
    "import seaborn as sns\n",
    "import plotly.express as px"
   ]
  },
  {
   "cell_type": "code",
   "execution_count": 3,
   "id": "65c6beeb-993b-43dc-aa67-2b9814d80c39",
   "metadata": {
    "tags": []
   },
   "outputs": [],
   "source": [
    "# Load the dataset from the CSV file\n",
    "dataset = pd.read_csv(r\"C:\\Users\\anmol\\OneDrive - UPES\\Documents\\UPES\\Summer Internship\\Pickl.AI\\Dataset\\Dataset_hotel_booking.csv\")"
   ]
  },
  {
   "cell_type": "code",
   "execution_count": 4,
   "id": "db74f5b6-1f92-4b46-a4b0-b49b88bada16",
   "metadata": {
    "tags": []
   },
   "outputs": [
    {
     "name": "stdout",
     "output_type": "stream",
     "text": [
      "Missing values:\n",
      " Hotel Type                             0\n",
      "Booking Lead Time                      0\n",
      "Year of Arrival                        0\n",
      "Month of Arrival                       0\n",
      "Week Number of Arrival                 0\n",
      "Day of the Month of Arrival            0\n",
      "Number of Weekend Nights               0\n",
      "Number of Week Nights                  0\n",
      "Number of Adults                       0\n",
      "Number of Children                     4\n",
      "Number of Babies                       0\n",
      "Meal Plan                              0\n",
      "Country of Origin                    488\n",
      "Market Segment                         0\n",
      "Booking Channel                        0\n",
      "Repeated Guest                         0\n",
      "Previous Cancellations                 0\n",
      "Previous Bookings Not Canceled         0\n",
      "Reserved Room Type                     0\n",
      "Assigned Room Type                     0\n",
      "Booking Changes                        0\n",
      "Deposit Type                           0\n",
      "Travel Agency ID                   16340\n",
      "Company/Entity ID                 112593\n",
      "Days in Waiting List                   0\n",
      "Customer Type                          0\n",
      "Average Daily Rate                     0\n",
      "Required Car Parking Spaces            0\n",
      "Total Special Requests                 0\n",
      "Reservation Status                     0\n",
      "Reservation Status Date                0\n",
      "Canceled Reservation                   0\n",
      "dtype: int64\n"
     ]
    }
   ],
   "source": [
    "# Finding missing values - DAY 3\n",
    "missing_values = dataset.isnull().sum()\n",
    "print(\"Missing values:\\n\", missing_values)"
   ]
  },
  {
   "cell_type": "code",
   "execution_count": 5,
   "id": "9c06884a-1d0d-45c4-9edf-59f3eb268066",
   "metadata": {
    "tags": []
   },
   "outputs": [],
   "source": [
    "# Handling missing values\n",
    "# Option 1: Remove rows or columns with missing values\n",
    "\n",
    "# Option 2: Impute missing values\n",
    "# For numerical features, you can impute using mean, median, or other techniques\n",
    "# For categorical features, you can impute using mode or a specific value\n",
    "\n",
    "#Country of Origin: Since it is a categorical feature, using the mode (most frequent value) to fill in the missing values is a suitable approach.\n",
    "#Travel Agency ID and Company/Entity ID: If these features are not critical for the analysis or if a large number of values are missing, you can consider dropping these columns from the dataset\n",
    "#Number of Children: Since it is a numerical feature, using the median to impute the missing values is a reasonable choice."
   ]
  },
  {
   "cell_type": "code",
   "execution_count": 6,
   "id": "96a96cbb-8e9f-4918-a822-5cbd2f44b013",
   "metadata": {
    "tags": []
   },
   "outputs": [],
   "source": [
    "# Fill missing values in 'Country of Origin' with mode\n",
    "dataset['Country of Origin'] = dataset['Country of Origin'].fillna(dataset['Country of Origin'].mode()[0])\n",
    "\n",
    "# Drop 'Travel Agency ID' and 'Company/Entity ID' columns\n",
    "dataset = dataset.drop(['Travel Agency ID', 'Company/Entity ID'], axis=1)\n",
    "\n",
    "# Fill missing values in 'Number of Children' with median\n",
    "dataset['Number of Children'] = dataset['Number of Children'].fillna(dataset['Number of Children'].median())"
   ]
  },
  {
   "cell_type": "code",
   "execution_count": 7,
   "id": "14460a61-cb7a-417e-887f-453805428b3e",
   "metadata": {
    "tags": []
   },
   "outputs": [
    {
     "name": "stdout",
     "output_type": "stream",
     "text": [
      "Missing values:\n",
      " Hotel Type                        0\n",
      "Booking Lead Time                 0\n",
      "Year of Arrival                   0\n",
      "Month of Arrival                  0\n",
      "Week Number of Arrival            0\n",
      "Day of the Month of Arrival       0\n",
      "Number of Weekend Nights          0\n",
      "Number of Week Nights             0\n",
      "Number of Adults                  0\n",
      "Number of Children                0\n",
      "Number of Babies                  0\n",
      "Meal Plan                         0\n",
      "Country of Origin                 0\n",
      "Market Segment                    0\n",
      "Booking Channel                   0\n",
      "Repeated Guest                    0\n",
      "Previous Cancellations            0\n",
      "Previous Bookings Not Canceled    0\n",
      "Reserved Room Type                0\n",
      "Assigned Room Type                0\n",
      "Booking Changes                   0\n",
      "Deposit Type                      0\n",
      "Days in Waiting List              0\n",
      "Customer Type                     0\n",
      "Average Daily Rate                0\n",
      "Required Car Parking Spaces       0\n",
      "Total Special Requests            0\n",
      "Reservation Status                0\n",
      "Reservation Status Date           0\n",
      "Canceled Reservation              0\n",
      "dtype: int64\n"
     ]
    }
   ],
   "source": [
    "# Verify that missing values have been handled\n",
    "missing_values = dataset.isnull().sum()\n",
    "print(\"Missing values:\\n\", missing_values)"
   ]
  },
  {
   "cell_type": "code",
   "execution_count": 8,
   "id": "88988736-d6cd-4d81-ad7d-5ae8a6eb915e",
   "metadata": {
    "tags": []
   },
   "outputs": [
    {
     "data": {
      "text/plain": [
       "Index(['Booking Lead Time', 'Year of Arrival', 'Week Number of Arrival',\n",
       "       'Day of the Month of Arrival', 'Number of Weekend Nights',\n",
       "       'Number of Week Nights', 'Number of Adults', 'Number of Children',\n",
       "       'Number of Babies', 'Repeated Guest', 'Previous Cancellations',\n",
       "       'Previous Bookings Not Canceled', 'Booking Changes',\n",
       "       'Days in Waiting List', 'Average Daily Rate',\n",
       "       'Required Car Parking Spaces', 'Total Special Requests',\n",
       "       'Canceled Reservation'],\n",
       "      dtype='object')"
      ]
     },
     "execution_count": 8,
     "metadata": {},
     "output_type": "execute_result"
    }
   ],
   "source": [
    "#Identify Numerical Features\n",
    "numerical_features = dataset.select_dtypes(include=['float', 'int']).columns\n",
    "numerical_features"
   ]
  },
  {
   "cell_type": "code",
   "execution_count": 9,
   "id": "50f14bc2-e72c-4379-a323-06c14bc1ba85",
   "metadata": {
    "tags": []
   },
   "outputs": [
    {
     "name": "stdout",
     "output_type": "stream",
     "text": [
      "<class 'pandas.core.frame.DataFrame'>\n",
      "Int64Index: 79995 entries, 2 to 119388\n",
      "Data columns (total 30 columns):\n",
      " #   Column                          Non-Null Count  Dtype  \n",
      "---  ------                          --------------  -----  \n",
      " 0   Hotel Type                      79995 non-null  object \n",
      " 1   Booking Lead Time               79995 non-null  int64  \n",
      " 2   Year of Arrival                 79995 non-null  int64  \n",
      " 3   Month of Arrival                79995 non-null  object \n",
      " 4   Week Number of Arrival          79995 non-null  int64  \n",
      " 5   Day of the Month of Arrival     79995 non-null  int64  \n",
      " 6   Number of Weekend Nights        79995 non-null  int64  \n",
      " 7   Number of Week Nights           79995 non-null  int64  \n",
      " 8   Number of Adults                79995 non-null  int64  \n",
      " 9   Number of Children              79995 non-null  float64\n",
      " 10  Number of Babies                79995 non-null  int64  \n",
      " 11  Meal Plan                       79995 non-null  object \n",
      " 12  Country of Origin               79995 non-null  object \n",
      " 13  Market Segment                  79995 non-null  object \n",
      " 14  Booking Channel                 79995 non-null  object \n",
      " 15  Repeated Guest                  79995 non-null  int64  \n",
      " 16  Previous Cancellations          79995 non-null  int64  \n",
      " 17  Previous Bookings Not Canceled  79995 non-null  int64  \n",
      " 18  Reserved Room Type              79995 non-null  object \n",
      " 19  Assigned Room Type              79995 non-null  object \n",
      " 20  Booking Changes                 79995 non-null  int64  \n",
      " 21  Deposit Type                    79995 non-null  object \n",
      " 22  Days in Waiting List            79995 non-null  int64  \n",
      " 23  Customer Type                   79995 non-null  object \n",
      " 24  Average Daily Rate              79995 non-null  float64\n",
      " 25  Required Car Parking Spaces     79995 non-null  int64  \n",
      " 26  Total Special Requests          79995 non-null  int64  \n",
      " 27  Reservation Status              79995 non-null  object \n",
      " 28  Reservation Status Date         79995 non-null  object \n",
      " 29  Canceled Reservation            79995 non-null  int64  \n",
      "dtypes: float64(2), int64(16), object(12)\n",
      "memory usage: 18.9+ MB\n"
     ]
    }
   ],
   "source": [
    "# Calculate the z-scores for each numerical feature\n",
    "zscore_threshold = 2\n",
    "\n",
    "dataset = dataset[~dataset[numerical_features].apply(\n",
    "    lambda x: np.abs((x - x.mean()) / x.std()) > zscore_threshold).any(axis=1)]\n",
    "\n",
    "dataset.info()"
   ]
  },
  {
   "cell_type": "code",
   "execution_count": 12,
   "id": "a5f12b1b-2a12-4b3e-a505-8d18fcb471a2",
   "metadata": {
    "tags": []
   },
   "outputs": [
    {
     "data": {
      "image/png": "[encoded data removed]",
      "text/plain": [
       "<Figure size 640x480 with 1 Axes>"
      ]
     },
     "metadata": {},
     "output_type": "display_data"
    }
   ],
   "source": [
    "# Visualize the outliers\n",
    "plt.boxplot(dataset[numerical_features])\n",
    "plt.show()"
   ]
  },
  {
   "cell_type": "code",
   "execution_count": null,
   "id": "d043fe80-075e-4b3b-91bb-adddef4c66aa",
   "metadata": {},
   "outputs": [],
   "source": []
  }
 ],
 "metadata": {
  "kernelspec": {
   "display_name": "Python 3 (ipykernel)",
   "language": "python",
   "name": "python3"
  },
  "language_info": {
   "codemirror_mode": {
    "name": "ipython",
    "version": 3
   },
   "file_extension": ".py",
   "mimetype": "text/x-python",
   "name": "python",
   "nbconvert_exporter": "python",
   "pygments_lexer": "ipython3",
   "version": "3.11.4"
  }
 },
 "nbformat": 4,
 "nbformat_minor": 5
}
