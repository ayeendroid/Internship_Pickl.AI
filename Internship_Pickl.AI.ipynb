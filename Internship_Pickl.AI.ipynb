{
 "cells": [
  {
   "cell_type": "code",
   "execution_count": 1,
   "id": "31176b1f-3cd6-44a2-bebf-3ed869953ed4",
   "metadata": {
    "tags": []
   },
   "outputs": [],
   "source": [
    "import pandas as pd\n",
    "import numpy as np"
   ]
  },
  {
   "cell_type": "code",
   "execution_count": 3,
   "id": "65c6beeb-993b-43dc-aa67-2b9814d80c39",
   "metadata": {
    "tags": []
   },
   "outputs": [],
   "source": [
    "# Load the dataset from the CSV file\n",
    "dataset = pd.read_csv(r\"C:\\Users\\anmol\\OneDrive - UPES\\Documents\\UPES\\Summer Internship\\Pickl.AI\\Dataset\\Dataset_hotel_booking.csv\")"
   ]
  },
  {
   "cell_type": "code",
   "execution_count": 4,
   "id": "db74f5b6-1f92-4b46-a4b0-b49b88bada16",
   "metadata": {
    "tags": []
   },
   "outputs": [
    {
     "name": "stdout",
     "output_type": "stream",
     "text": [
      "Missing values:\n",
      " Hotel Type                             0\n",
      "Booking Lead Time                      0\n",
      "Year of Arrival                        0\n",
      "Month of Arrival                       0\n",
      "Week Number of Arrival                 0\n",
      "Day of the Month of Arrival            0\n",
      "Number of Weekend Nights               0\n",
      "Number of Week Nights                  0\n",
      "Number of Adults                       0\n",
      "Number of Children                     4\n",
      "Number of Babies                       0\n",
      "Meal Plan                              0\n",
      "Country of Origin                    488\n",
      "Market Segment                         0\n",
      "Booking Channel                        0\n",
      "Repeated Guest                         0\n",
      "Previous Cancellations                 0\n",
      "Previous Bookings Not Canceled         0\n",
      "Reserved Room Type                     0\n",
      "Assigned Room Type                     0\n",
      "Booking Changes                        0\n",
      "Deposit Type                           0\n",
      "Travel Agency ID                   16340\n",
      "Company/Entity ID                 112593\n",
      "Days in Waiting List                   0\n",
      "Customer Type                          0\n",
      "Average Daily Rate                     0\n",
      "Required Car Parking Spaces            0\n",
      "Total Special Requests                 0\n",
      "Reservation Status                     0\n",
      "Reservation Status Date                0\n",
      "Canceled Reservation                   0\n",
      "dtype: int64\n"
     ]
    }
   ],
   "source": [
    "# Finding missing values - DAY 3\n",
    "missing_values = dataset.isnull().sum()\n",
    "print(\"Missing values:\\n\", missing_values)"
   ]
  },
  {
   "cell_type": "code",
   "execution_count": 5,
   "id": "9c06884a-1d0d-45c4-9edf-59f3eb268066",
   "metadata": {
    "tags": []
   },
   "outputs": [],
   "source": [
    "# Handling missing values\n",
    "# Option 1: Remove rows or columns with missing values\n",
    "\n",
    "# Option 2: Impute missing values\n",
    "# For numerical features, you can impute using mean, median, or other techniques\n",
    "# For categorical features, you can impute using mode or a specific value\n",
    "\n",
    "#Country of Origin: Since it is a categorical feature, using the mode (most frequent value) to fill in the missing values is a suitable approach.\n",
    "#Travel Agency ID and Company/Entity ID: If these features are not critical for the analysis or if a large number of values are missing, you can consider dropping these columns from the dataset\n",
    "#Number of Children: Since it is a numerical feature, using the median to impute the missing values is a reasonable choice."
   ]
  },
  {
   "cell_type": "code",
   "execution_count": 6,
   "id": "96a96cbb-8e9f-4918-a822-5cbd2f44b013",
   "metadata": {
    "tags": []
   },
   "outputs": [],
   "source": [
    "# Fill missing values in 'Country of Origin' with mode\n",
    "dataset['Country of Origin'] = dataset['Country of Origin'].fillna(dataset['Country of Origin'].mode()[0])\n",
    "\n",
    "# Drop 'Travel Agency ID' and 'Company/Entity ID' columns\n",
    "dataset = dataset.drop(['Travel Agency ID', 'Company/Entity ID'], axis=1)\n",
    "\n",
    "# Fill missing values in 'Number of Children' with median\n",
    "dataset['Number of Children'] = dataset['Number of Children'].fillna(dataset['Number of Children'].median())"
   ]
  },
  {
   "cell_type": "code",
   "execution_count": null,
   "id": "14460a61-cb7a-417e-887f-453805428b3e",
   "metadata": {},
   "outputs": [],
   "source": []
  }
 ],
 "metadata": {
  "kernelspec": {
   "display_name": "Python 3 (ipykernel)",
   "language": "python",
   "name": "python3"
  },
  "language_info": {
   "codemirror_mode": {
    "name": "ipython",
    "version": 3
   },
   "file_extension": ".py",
   "mimetype": "text/x-python",
   "name": "python",
   "nbconvert_exporter": "python",
   "pygments_lexer": "ipython3",
   "version": "3.11.4"
  }
 },
 "nbformat": 4,
 "nbformat_minor": 5
}
